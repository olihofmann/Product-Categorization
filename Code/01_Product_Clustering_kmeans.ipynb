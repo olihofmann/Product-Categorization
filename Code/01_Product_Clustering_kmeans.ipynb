{
 "cells": [
  {
   "cell_type": "code",
   "execution_count": 1,
   "metadata": {},
   "outputs": [],
   "source": [
    "%matplotlib inline\n",
    "import matplotlib.pyplot as plt\n",
    "import numpy as np\n",
    "import pandas as pd\n",
    "\n",
    "from sklearn.model_selection import train_test_split\n",
    "from sklearn.cluster import KMeans, MiniBatchKMeans\n",
    "from sklearn.preprocessing import Imputer, StandardScaler, MinMaxScaler, RobustScaler, Normalizer, LabelEncoder\n",
    "from sklearn.decomposition import PCA\n",
    "\n",
    "from sklearn import metrics"
   ]
  },
  {
   "cell_type": "code",
   "execution_count": 2,
   "metadata": {},
   "outputs": [],
   "source": [
    "def k_means_metric(data, true_labels, k_means_labels):\n",
    "    print()\n",
    "    print(\"k-means Metric:\")\n",
    "    print(\"Homogeneity: \", metrics.homogeneity_score(true_labels, k_means_labels))\n",
    "    print(\"Completeness: \", metrics.completeness_score(true_labels, k_means_labels))\n",
    "    print(\"V-Measure: \", metrics.v_measure_score(true_labels, k_means_labels))\n",
    "    print(\"Silhouette Score: \", metrics.silhouette_score(data, k_means_labels, metric='euclidean'))\n",
    "    print()"
   ]
  },
  {
   "cell_type": "code",
   "execution_count": 3,
   "metadata": {},
   "outputs": [],
   "source": [
    "def visualize_k_means(data, k_means):\n",
    "    plt.figure()\n",
    "    k = len(k_means.cluster_centers_)\n",
    "    for i in range(k):\n",
    "        colors = ['r', 'g', 'b', 'y', 'c', 'm']\n",
    "        points_in_cluster = np.array([data[j] for j in range(len(data)) if k_means.labels_[j] == i])\n",
    "        plt.scatter(points_in_cluster[:, 0], points_in_cluster[:, 1], \\\n",
    "                    marker='.', color=colors[i % len(colors)])\n",
    "    plt.scatter(k_means.cluster_centers_[:,0], k_means.cluster_centers_[:, 1], marker='*', color='k')\n",
    "    plt.title('k-Means Clustering with k={} clusters'.format(k))\n",
    "    plt.show()"
   ]
  },
  {
   "cell_type": "markdown",
   "metadata": {},
   "source": [
    "#### Erster Versuch mit k-means ohne Feature Engineering\n",
    "\n",
    "In diesem Versuch wurde zuerst die Anzahl Clusters mittel k-means evaluiert. Dies geschiet durch die Auswertung der Error Rate. Danach wurde ein Clustering mit der optimalen Anzahl gemacht. Das Resultat war sehr schlecht. Es wurde bewusst nur die ertsen 150 Datensätze verwendet, da der Rest über Missing Values verfügt. Es wurde noch kein test-train split vorgenommen."
   ]
  },
  {
   "cell_type": "code",
   "execution_count": 4,
   "metadata": {},
   "outputs": [
    {
     "name": "stdout",
     "output_type": "stream",
     "text": [
      "(222,)\n",
      "(222, 16)\n"
     ]
    }
   ],
   "source": [
    "# Laden der Daten\n",
    "csv = pd.read_csv(\"../Data/Biral_Products_csv.csv\", delimiter=\",\", header=0)\n",
    "csv.drop(columns=[\"Bezeichnung\", \"Beschreibung\", \"Anwendungsgebiet\"], inplace=True)\n",
    "data = np.array(csv)\n",
    "\n",
    "# Gruppenbezeichnung one-hot eoncoden\n",
    "label_encoder = LabelEncoder()\n",
    "integer_encoded = label_encoder.fit_transform(data[:,0])\n",
    "print(integer_encoded.shape)\n",
    "\n",
    "csv = csv.assign(category_one_hot = integer_encoded)\n",
    "labels = csv.category_one_hot\n",
    "\n",
    "# Gruppenbezeichnung nach dem one-hot encoding entfernen.\n",
    "csv.drop(columns=\"Gruppenbezeichnung\", inplace=True)\n",
    "data = np.array(csv)\n",
    "\n",
    "print(data.shape)"
   ]
  },
  {
   "cell_type": "code",
   "execution_count": 5,
   "metadata": {},
   "outputs": [
    {
     "name": "stdout",
     "output_type": "stream",
     "text": [
      "(222, 16)\n"
     ]
    }
   ],
   "source": [
    "# Missing Values mit dem Most Frequent Value ersetzen.\n",
    "imputer_scaler = Imputer(missing_values=\"NaN\", strategy=\"most_frequent\", verbose=1)\n",
    "data = imputer_scaler.fit_transform(data)\n",
    "print(data.shape)"
   ]
  },
  {
   "cell_type": "code",
   "execution_count": 6,
   "metadata": {},
   "outputs": [
    {
     "data": {
      "image/png": "[encoded data removed]",
      "text/plain": [
       "<matplotlib.figure.Figure at 0x10ead53c8>"
      ]
     },
     "metadata": {},
     "output_type": "display_data"
    }
   ],
   "source": [
    "# Beste Anzahl an Cluster evaluieren.\n",
    "Ks = range(1, 10)\n",
    "inertia = []\n",
    "for k in Ks:\n",
    "    k_means = KMeans(n_clusters=k, random_state=0).fit(data)\n",
    "    inertia.append(k_means.inertia_)\n",
    "plt.bar(Ks, inertia)\n",
    "plt.title('Within-Cluster Sum of Squares')\n",
    "plt.xlabel('Cluster Count k')\n",
    "plt.ylabel('Error')\n",
    "plt.grid()\n",
    "plt.show()"
   ]
  },
  {
   "cell_type": "markdown",
   "metadata": {},
   "source": [
    "#### Erster Versuch mit k-mean un der optimalen Anzahl an Clustern"
   ]
  },
  {
   "cell_type": "code",
   "execution_count": 7,
   "metadata": {},
   "outputs": [
    {
     "name": "stdout",
     "output_type": "stream",
     "text": [
      "\n",
      "k-means Metric:\n",
      "Homogeneity:  0.054128243145565816\n",
      "Completeness:  0.0757875822225958\n",
      "V-Measure:  0.06315240912851194\n",
      "Silhouette Score:  0.7215507238177798\n",
      "\n"
     ]
    }
   ],
   "source": [
    "# k-means mit der optimalen Anzahl von 3 Clustern ausführen.\n",
    "k = 3\n",
    "k_means = KMeans(n_clusters=k, random_state=0).fit(data)\n",
    "k_means_metric(data, labels, k_means.labels_)"
   ]
  },
  {
   "cell_type": "markdown",
   "metadata": {},
   "source": [
    "#### Zweiter Versuch mit k-means und den verschiedenen Scaler"
   ]
  },
  {
   "cell_type": "code",
   "execution_count": 8,
   "metadata": {},
   "outputs": [
    {
     "name": "stdout",
     "output_type": "stream",
     "text": [
      "<class 'sklearn.preprocessing.data.StandardScaler'>\n",
      "\n",
      "k-means Metric:\n",
      "Homogeneity:  0.5928636499174268\n",
      "Completeness:  0.5507789597400168\n",
      "V-Measure:  0.5710469715132382\n",
      "Silhouette Score:  0.3481758547073592\n",
      "\n",
      "<class 'sklearn.preprocessing.data.MinMaxScaler'>\n",
      "\n",
      "k-means Metric:\n",
      "Homogeneity:  0.5907118197614116\n",
      "Completeness:  0.5458045563032544\n",
      "V-Measure:  0.5673709758663793\n",
      "Silhouette Score:  0.3979896500721858\n",
      "\n",
      "<class 'sklearn.preprocessing.data.RobustScaler'>\n",
      "\n",
      "k-means Metric:\n",
      "Homogeneity:  0.11137462702697265\n",
      "Completeness:  0.13565139397482037\n",
      "V-Measure:  0.12232009687372071\n",
      "Silhouette Score:  0.5245067818282858\n",
      "\n",
      "<class 'sklearn.preprocessing.data.Normalizer'>\n",
      "\n",
      "k-means Metric:\n",
      "Homogeneity:  0.060859926057923085\n",
      "Completeness:  0.0563225029620278\n",
      "V-Measure:  0.0585033676863375\n",
      "Silhouette Score:  0.5281679171198188\n",
      "\n"
     ]
    }
   ],
   "source": [
    "k = 3\n",
    "scalers = [StandardScaler(), MinMaxScaler(), RobustScaler(), Normalizer()]\n",
    "for s in scalers:\n",
    "    s.fit(data)\n",
    "    data_scaled = s.transform(data)\n",
    "    k_means = KMeans(n_clusters=k, random_state=0).fit(data_scaled)\n",
    "    print(type(s))\n",
    "    k_means_metric(data_scaled, labels, k_means.labels_)"
   ]
  },
  {
   "cell_type": "markdown",
   "metadata": {},
   "source": [
    "#### Versuch mit PCA, um die dimension des Datasets zu redzuieren\n",
    "Die Vorgängigen versuche besser Resultate zu erziehlen, sind nicht erfolgreich gewesen."
   ]
  },
  {
   "cell_type": "code",
   "execution_count": 11,
   "metadata": {},
   "outputs": [
    {
     "name": "stdout",
     "output_type": "stream",
     "text": [
      "Original Shape: (222, 16)\n",
      "Reduced Shape: (222, 2)\n",
      "\n",
      "k-means Metric:\n",
      "Homogeneity:  0.054128243145565816\n",
      "Completeness:  0.0757875822225958\n",
      "V-Measure:  0.06315240912851194\n",
      "Silhouette Score:  0.7408511770937148\n",
      "\n"
     ]
    },
    {
     "data": {
      "image/png": "[encoded data removed]",
      "text/plain": [
       "<matplotlib.figure.Figure at 0x11e518f60>"
      ]
     },
     "metadata": {},
     "output_type": "display_data"
    }
   ],
   "source": [
    "pca = PCA(n_components=2)\n",
    "pca.fit(data)\n",
    "data_pca = pca.transform(data)\n",
    "print(\"Original Shape: {}\".format(str(data.shape)))\n",
    "print(\"Reduced Shape: {}\".format(str(data_pca.shape)))\n",
    "\n",
    "k_means = KMeans(n_clusters=k, random_state=0).fit(data_pca)\n",
    "k_means_metric(data_pca, labels, k_means.labels_)\n",
    "visualize_k_means(data_pca, k_means)"
   ]
  }
 ],
 "metadata": {
  "kernelspec": {
   "display_name": "Python 3",
   "language": "python",
   "name": "python3"
  },
  "language_info": {
   "codemirror_mode": {
    "name": "ipython",
    "version": 3
   },
   "file_extension": ".py",
   "mimetype": "text/x-python",
   "name": "python",
   "nbconvert_exporter": "python",
   "pygments_lexer": "ipython3",
   "version": "3.6.3"
  }
 },
 "nbformat": 4,
 "nbformat_minor": 2
}
