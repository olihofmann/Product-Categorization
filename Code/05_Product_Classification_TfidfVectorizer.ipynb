{
 "cells": [
  {
   "cell_type": "code",
   "execution_count": 11,
   "metadata": {},
   "outputs": [],
   "source": [
    "%matplotlib inline\n",
    "import matplotlib.pyplot as plt\n",
    "import numpy as np\n",
    "import pandas as pd\n",
    "import nltk\n",
    "import re\n",
    "\n",
    "from sklearn.feature_extraction.text import TfidfVectorizer\n",
    "\n",
    "from nltk.stem.snowball import SnowballStemmer\n",
    "\n",
    "from sklearn.naive_bayes import MultinomialNB"
   ]
  },
  {
   "cell_type": "code",
   "execution_count": 3,
   "metadata": {},
   "outputs": [
    {
     "name": "stdout",
     "output_type": "stream",
     "text": [
      "(222, 19)\n"
     ]
    }
   ],
   "source": [
    "csv = pd.read_csv(\"../Data/Biral_Products_csv.csv\", delimiter=\",\", header=0)\n",
    "labels = csv.Gruppenbezeichnung\n",
    "data = np.array(csv)\n",
    "print(data.shape)"
   ]
  },
  {
   "cell_type": "code",
   "execution_count": 7,
   "metadata": {},
   "outputs": [],
   "source": [
    "stemmer = SnowballStemmer(\"german\")\n",
    "stopwords = nltk.corpus.stopwords.words('german')\n",
    "def preprocess_text(text):\n",
    "    # first tokenize by sentence, then by word to ensure that punctuation is caught as it's own token\n",
    "    tokens = [word for sent in nltk.sent_tokenize(text) for word in nltk.word_tokenize(sent) if word not in stopwords]\n",
    "    filtered_tokens = []\n",
    "    # filter out any tokens not containing letters (e.g., numeric tokens, raw punctuation)\n",
    "    for token in tokens:\n",
    "        if re.search('[a-zA-Z]', token):\n",
    "            filtered_tokens.append(token)\n",
    "    stems = [stemmer.stem(t) for t in filtered_tokens]\n",
    "    return stems"
   ]
  },
  {
   "cell_type": "code",
   "execution_count": 10,
   "metadata": {},
   "outputs": [
    {
     "name": "stdout",
     "output_type": "stream",
     "text": [
      "(222, 111)\n",
      "['/li', '/ul', '1x230v', '32f-12', '32f-6', '3x400v', 'a', 'ad', 'anlag', 'anwend', 'anwendungsbereich', 'aw', 'ax', 'axw', 'bestimmt', 'betriebspunkt', 'bewahrt', 'bg', 'bietet', 'biral-umwalzpump', 'blue', 'brauchwasserpump', 'burogebaud', 'bz', 'den', 'dien', 'eign', 'einfamilienhaus', 'eingeregelt', 'einrohr-', 'erst', 'exakt', 'flachenheiz', 'flanschanschluss', 'flussig', 'folgend', 'fordermengen.', 'fussbodenheiz', 'geeignet', 'generation', 'genug', 'gewindeanschluss', 'green', 'gross', 'heizungs-umwalzpump', 'heizungsanlag', 'hocheffizient', 'hotel', 'industri', 'industrieanlag', 'industriell', 'kaltwassersystem', 'kh', 'klein', 'klima-/kalte-anwend', 'klimaanlag', 'konstant', 'kuhlkreislauf', 'kw', 'leistungsklass', 'li', 'liegt', 'losung', 'lufterhitz', 'luftungs-', 'maximal', 'mediumstemperatur', 'mehrfamilienhaus', 'mittel', 'mittl', 'modula', 'modula-d', 'modula-pumpenfamili', 'mws', 'nahezu', 'nasslaufer-umwalzpump', 'passend', 'pn10/16', 'pn6', 'primax', 'pump', 'radiator-', 'red', 'red¨', 'richtig', 'rv', 'schulhaus', 'sedical', 'smart', 'solaranlag', 'spital', 'steh', 'trinkwarmwass', 'typ', 'typenreih', 'ul', 'umgebungstemperatur', 'umwalz', 'variabl', 'verfug', 'verrichtet', 'versorg', 'verwend', 'w', 'warmepump', 'warmwasserheiz', 'wohnhaus', 'wx', 'zirkulationssystem', 'zuverlass', 'zweirohr-heizungsanlag']\n"
     ]
    }
   ],
   "source": [
    "tfidf_vectorizer = TfidfVectorizer(tokenizer=tokenize_and_stem_and_remove_stopwords)\n",
    "tfidf_matrix = tfidf_vectorizer.fit_transform(data[:,0] + \" \" + data[:,3])\n",
    "print(tfidf_matrix.shape)\n",
    "print(tfidf_vectorizer.get_feature_names())"
   ]
  },
  {
   "cell_type": "code",
   "execution_count": null,
   "metadata": {},
   "outputs": [],
   "source": []
  }
 ],
 "metadata": {
  "kernelspec": {
   "display_name": "Python 3",
   "language": "python",
   "name": "python3"
  },
  "language_info": {
   "codemirror_mode": {
    "name": "ipython",
    "version": 3
   },
   "file_extension": ".py",
   "mimetype": "text/x-python",
   "name": "python",
   "nbconvert_exporter": "python",
   "pygments_lexer": "ipython3",
   "version": "3.6.3"
  }
 },
 "nbformat": 4,
 "nbformat_minor": 2
}
