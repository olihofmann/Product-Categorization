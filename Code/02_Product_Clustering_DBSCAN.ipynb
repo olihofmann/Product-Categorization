{
 "cells": [
  {
   "cell_type": "code",
   "execution_count": 1,
   "metadata": {},
   "outputs": [],
   "source": [
    "%matplotlib inline\n",
    "import matplotlib.pyplot as plt\n",
    "import numpy as np\n",
    "import pandas as pd\n",
    "\n",
    "from sklearn.preprocessing import Imputer, LabelEncoder, StandardScaler\n",
    "from sklearn import metrics\n",
    "\n",
    "from sklearn.cluster import DBSCAN\n",
    "from sklearn.decomposition import PCA"
   ]
  },
  {
   "cell_type": "code",
   "execution_count": 2,
   "metadata": {},
   "outputs": [],
   "source": [
    "def dbscan_metric(data, true_labels, dbscan_labels):\n",
    "    print()\n",
    "    print(\"DBSCAN Metric:\")\n",
    "    print(\"Homogeneity: \", metrics.homogeneity_score(true_labels, dbscan_labels))\n",
    "    print(\"Completeness: \", metrics.completeness_score(true_labels, dbscan_labels))\n",
    "    print(\"V-Measure: \", metrics.v_measure_score(true_labels, dbscan_labels))\n",
    "    print(\"Silhouette Score: \", metrics.silhouette_score(data, dbscan_labels, metric='euclidean'))\n",
    "    print()"
   ]
  },
  {
   "cell_type": "code",
   "execution_count": 3,
   "metadata": {},
   "outputs": [],
   "source": [
    "def visualize_dbscan_clusters(data, dbscan):\n",
    "    scaler = StandardScaler()\n",
    "    xy = scaler.fit_transform(data)\n",
    "    num_noisy_points = num_noisy_points = np.count_nonzero(dbscan.labels_ == -1)\n",
    "    \n",
    "    plt.figure(figsize=(8,6), dpi=120)\n",
    "    for i in range(0, len(xy)):\n",
    "        if dbscan.labels_[i] == 0:\n",
    "            c1 = plt.scatter(xy[i, 0], xy[i, 1], c='r', marker='+')\n",
    "        elif dbscan.labels_[i] == 1:\n",
    "            c2 = plt.scatter(xy[i, 0], xy[i, 1], c='g', marker='o')\n",
    "        elif dbscan.labels_[i] == -1:\n",
    "            c3 = plt.scatter(xy[i, 0], xy[i, 1] ,c='b', marker='*')\n",
    "        \n",
    "    plt.legend([c1, c2, c3], ['Cluster 1', 'Cluster 2', 'Noise'])\n",
    "    plt.title('Clustering with k={} clusters and {} noisy points (*)'.format(3, num_noisy_points))\n",
    "    plt.show()"
   ]
  },
  {
   "cell_type": "code",
   "execution_count": 4,
   "metadata": {},
   "outputs": [
    {
     "name": "stdout",
     "output_type": "stream",
     "text": [
      "(222,)\n",
      "(222, 16)\n"
     ]
    }
   ],
   "source": [
    "# Laden der Daten\n",
    "csv = pd.read_csv(\"../Data/Biral_Products_csv.csv\", delimiter=\",\", header=0)\n",
    "csv.drop(columns=[\"Bezeichnung\", \"Beschreibung\", \"Anwendungsgebiet\"], inplace=True)\n",
    "data = np.array(csv)\n",
    "\n",
    "# Gruppenbezeichnung one-hot eoncoden\n",
    "label_encoder = LabelEncoder()\n",
    "integer_encoded = label_encoder.fit_transform(data[:,0])\n",
    "print(integer_encoded.shape)\n",
    "\n",
    "csv = csv.assign(category_one_hot = integer_encoded)\n",
    "labels = csv.category_one_hot\n",
    "\n",
    "# Gruppenbezeichnung nach dem one-hot encoding entfernen.\n",
    "csv.drop(columns=\"Gruppenbezeichnung\", inplace=True)\n",
    "data = np.array(csv)\n",
    "\n",
    "print(data.shape)"
   ]
  },
  {
   "cell_type": "code",
   "execution_count": 5,
   "metadata": {},
   "outputs": [
    {
     "name": "stdout",
     "output_type": "stream",
     "text": [
      "(222, 16)\n"
     ]
    }
   ],
   "source": [
    "# Missing Values mit dem Most Frequent Value ersetzen.\n",
    "imputer_scaler = Imputer(missing_values=\"NaN\", strategy=\"most_frequent\", verbose=1)\n",
    "data = imputer_scaler.fit_transform(data)\n",
    "print(data.shape)"
   ]
  },
  {
   "cell_type": "markdown",
   "metadata": {},
   "source": [
    "#### Erster Versuch mit DBSCAN"
   ]
  },
  {
   "cell_type": "code",
   "execution_count": 21,
   "metadata": {},
   "outputs": [
    {
     "name": "stdout",
     "output_type": "stream",
     "text": [
      "\n",
      "DBSCAN Metric:\n",
      "Homogeneity:  0.2537302950765808\n",
      "Completeness:  0.18746604569951006\n",
      "V-Measure:  0.21562198366607185\n",
      "Silhouette Score:  -0.2939989012530716\n",
      "\n"
     ]
    }
   ],
   "source": [
    "db_scan = DBSCAN(eps=1.2, min_samples=2, metric='euclidean').fit(data)\n",
    "dbscan_metric(data, labels, db_scan.labels_)"
   ]
  },
  {
   "cell_type": "markdown",
   "metadata": {},
   "source": [
    "#### Zweiter Versuch mit PCA mit 2 Components"
   ]
  },
  {
   "cell_type": "code",
   "execution_count": 39,
   "metadata": {},
   "outputs": [
    {
     "name": "stdout",
     "output_type": "stream",
     "text": [
      "Original Shape: (222, 16)\n",
      "Reduced Shape: (222, 2)\n",
      "\n",
      "DBSCAN Metric:\n",
      "Homogeneity:  0.31328912982098134\n",
      "Completeness:  0.0898257742916558\n",
      "V-Measure:  0.13961993653038204\n",
      "Silhouette Score:  0.4085494159394022\n",
      "\n"
     ]
    },
    {
     "data": {
      "image/png": "[encoded data removed]",
      "text/plain": [
       "<matplotlib.figure.Figure at 0x116d2e0b8>"
      ]
     },
     "metadata": {},
     "output_type": "display_data"
    }
   ],
   "source": [
    "pca = PCA(n_components=2)\n",
    "pca.fit(data)\n",
    "data_pca = pca.transform(data)\n",
    "print(\"Original Shape: {}\".format(str(data.shape)))\n",
    "print(\"Reduced Shape: {}\".format(str(data_pca.shape)))\n",
    "\n",
    "db_scan = DBSCAN(eps=1.2, min_samples=2, metric='euclidean').fit(data_pca)\n",
    "dbscan_metric(data_pca, labels, db_scan.labels_)\n",
    "visualize_dbscan_clusters(data_pca, db_scan)"
   ]
  }
 ],
 "metadata": {
  "kernelspec": {
   "display_name": "Python 3",
   "language": "python",
   "name": "python3"
  },
  "language_info": {
   "codemirror_mode": {
    "name": "ipython",
    "version": 3
   },
   "file_extension": ".py",
   "mimetype": "text/x-python",
   "name": "python",
   "nbconvert_exporter": "python",
   "pygments_lexer": "ipython3",
   "version": "3.6.3"
  }
 },
 "nbformat": 4,
 "nbformat_minor": 2
}
