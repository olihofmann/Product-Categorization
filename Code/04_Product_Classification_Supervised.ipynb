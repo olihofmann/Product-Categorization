{
 "cells": [
  {
   "cell_type": "code",
   "execution_count": 2,
   "metadata": {},
   "outputs": [],
   "source": [
    "%matplotlib inline\n",
    "import matplotlib.pyplot as plt\n",
    "from matplotlib.colors import ListedColormap\n",
    "import numpy as np\n",
    "import pandas as pd\n",
    "\n",
    "from sklearn.preprocessing import Imputer\n",
    "from sklearn.model_selection import train_test_split\n",
    "from sklearn.feature_selection import RFE\n",
    "\n",
    "from sklearn.ensemble import RandomForestClassifier\n",
    "from sklearn.neighbors import KNeighborsClassifier\n",
    "from sklearn.naive_bayes import GaussianNB\n",
    "from sklearn.tree import DecisionTreeClassifier\n",
    "from sklearn.svm import SVC\n",
    "\n",
    "from sklearn.metrics import accuracy_score, classification_report"
   ]
  },
  {
   "cell_type": "code",
   "execution_count": 3,
   "metadata": {},
   "outputs": [
    {
     "name": "stdout",
     "output_type": "stream",
     "text": [
      "(222, 15)\n"
     ]
    }
   ],
   "source": [
    "csv = pd.read_csv(\"../Data/Biral_Products_csv.csv\", delimiter=\",\", header=0)\n",
    "labels = csv.Gruppenbezeichnung\n",
    "csv.drop(columns=[\"Bezeichnung\", \"Gruppenbezeichnung\", \"Beschreibung\", \"Anwendungsgebiet\"], inplace=True)\n",
    "\n",
    "data = np.array(csv)\n",
    "print(data.shape)"
   ]
  },
  {
   "cell_type": "code",
   "execution_count": 4,
   "metadata": {},
   "outputs": [
    {
     "name": "stdout",
     "output_type": "stream",
     "text": [
      "(222, 15)\n"
     ]
    }
   ],
   "source": [
    "imputer_scaler = Imputer(missing_values=\"NaN\", strategy=\"most_frequent\", verbose=1)\n",
    "data = imputer_scaler.fit_transform(data)\n",
    "print(data.shape)"
   ]
  },
  {
   "cell_type": "code",
   "execution_count": 5,
   "metadata": {},
   "outputs": [],
   "source": [
    "X_train, X_test, y_train, y_test = train_test_split(data, labels, test_size=0.33)"
   ]
  },
  {
   "cell_type": "markdown",
   "metadata": {},
   "source": [
    "#### Classifier Vergleich mit allen Features"
   ]
  },
  {
   "cell_type": "code",
   "execution_count": 24,
   "metadata": {},
   "outputs": [
    {
     "name": "stdout",
     "output_type": "stream",
     "text": [
      "Naive Bayes:\n",
      "Test Score: 79.730%\n",
      "\n",
      "             precision    recall  f1-score   support\n",
      "\n",
      "       BLUE       0.59      1.00      0.74        20\n",
      "      GREEN       1.00      0.90      0.95        10\n",
      "        RED       0.97      0.68      0.80        44\n",
      "\n",
      "avg / total       0.87      0.80      0.80        74\n",
      "\n",
      "KNN:\n",
      "Test Score: 79.730%\n",
      "\n",
      "             precision    recall  f1-score   support\n",
      "\n",
      "       BLUE       0.94      0.80      0.86        20\n",
      "      GREEN       0.50      0.50      0.50        10\n",
      "        RED       0.81      0.86      0.84        44\n",
      "\n",
      "avg / total       0.80      0.80      0.80        74\n",
      "\n",
      "Random Forest:\n",
      "Test Score: 97.297%\n",
      "\n",
      "             precision    recall  f1-score   support\n",
      "\n",
      "       BLUE       1.00      1.00      1.00        20\n",
      "      GREEN       1.00      0.80      0.89        10\n",
      "        RED       0.96      1.00      0.98        44\n",
      "\n",
      "avg / total       0.97      0.97      0.97        74\n",
      "\n",
      "Decision Tree:\n",
      "Test Score: 97.297%\n",
      "\n",
      "             precision    recall  f1-score   support\n",
      "\n",
      "       BLUE       1.00      1.00      1.00        20\n",
      "      GREEN       1.00      0.80      0.89        10\n",
      "        RED       0.96      1.00      0.98        44\n",
      "\n",
      "avg / total       0.97      0.97      0.97        74\n",
      "\n",
      "Linear SVM:\n",
      "Test Score: 98.649%\n",
      "\n",
      "             precision    recall  f1-score   support\n",
      "\n",
      "       BLUE       1.00      1.00      1.00        20\n",
      "      GREEN       1.00      0.90      0.95        10\n",
      "        RED       0.98      1.00      0.99        44\n",
      "\n",
      "avg / total       0.99      0.99      0.99        74\n",
      "\n",
      "RBF SVM:\n",
      "Test Score: 66.216%\n",
      "\n",
      "             precision    recall  f1-score   support\n",
      "\n",
      "       BLUE       1.00      0.25      0.40        20\n",
      "      GREEN       0.00      0.00      0.00        10\n",
      "        RED       0.64      1.00      0.78        44\n",
      "\n",
      "avg / total       0.65      0.66      0.57        74\n",
      "\n"
     ]
    },
    {
     "name": "stderr",
     "output_type": "stream",
     "text": [
      "/Users/oliver.hofmann/anaconda3/lib/python3.6/site-packages/sklearn/metrics/classification.py:1135: UndefinedMetricWarning: Precision and F-score are ill-defined and being set to 0.0 in labels with no predicted samples.\n",
      "  'precision', 'predicted', average, warn_for)\n"
     ]
    }
   ],
   "source": [
    "names = [\"Naive Bayes\",\n",
    "         \"KNN\",\n",
    "         \"Random Forest\",\n",
    "         \"Decision Tree\",\n",
    "         \"Linear SVM\",\n",
    "         \"RBF SVM\"]\n",
    "\n",
    "\n",
    "\n",
    "\n",
    "for name, clf in zip(names, classifiers):\n",
    "    clf_model = clf.fit(X_train, y_train)\n",
    "    clf_pred = clf.predict(X_test)\n",
    "    print(f\"{name}:\")\n",
    "    print(\"Test Score: {:.3%}\\n\".format(clf_model.score(X_test, y_test)))\n",
    "    print(classification_report(y_test, clf_pred))"
   ]
  },
  {
   "cell_type": "markdown",
   "metadata": {},
   "source": [
    "#### Versuch mit Recursive Feature Elimination"
   ]
  },
  {
   "cell_type": "code",
   "execution_count": 24,
   "metadata": {},
   "outputs": [
    {
     "name": "stdout",
     "output_type": "stream",
     "text": [
      "Random Forest:\n",
      "Test Score: 93.243%\n",
      "\n",
      "             precision    recall  f1-score   support\n",
      "\n",
      "       BLUE       1.00      0.71      0.83        17\n",
      "      GREEN       1.00      1.00      1.00        15\n",
      "        RED       0.89      1.00      0.94        42\n",
      "\n",
      "avg / total       0.94      0.93      0.93        74\n",
      "\n",
      "Features sorted by their rank:\n",
      "[(1, 'Mediumtemperatur max.'), (1, 'Mediumtemperatur min.'), (1, 'pro 100 m Höhe'), (2, 'EEI-Wert'), (3, 'Nennstrom min.'), (4, 'Baulänge'), (5, 'Nettogewicht'), (6, 'Leistung P min.'), (7, 'Nennstrom max.'), (8, 'Nennweite'), (9, 'Förderhöhe H max.'), (10, 'Betriebsdruck max.'), (11, 'Leistung P max.'), (12, 'bei   75°C Wassertemperatur'), (13, 'Nennweite G/DN')]\n",
      "\n",
      "Decision Tree:\n",
      "Test Score: 95.946%\n",
      "\n",
      "             precision    recall  f1-score   support\n",
      "\n",
      "       BLUE       1.00      0.88      0.94        17\n",
      "      GREEN       1.00      0.93      0.97        15\n",
      "        RED       0.93      1.00      0.97        42\n",
      "\n",
      "avg / total       0.96      0.96      0.96        74\n",
      "\n",
      "Features sorted by their rank:\n",
      "[(1, 'Baulänge'), (1, 'Nennstrom min.'), (1, 'pro 100 m Höhe'), (2, 'Nennweite G/DN'), (3, 'Nennstrom max.'), (4, 'Leistung P min.'), (5, 'Leistung P max.'), (6, 'bei   75°C Wassertemperatur'), (7, 'EEI-Wert'), (8, 'Mediumtemperatur min.'), (9, 'Nettogewicht'), (10, 'Mediumtemperatur max.'), (11, 'Betriebsdruck max.'), (12, 'Förderhöhe H max.'), (13, 'Nennweite')]\n",
      "\n",
      "Linear SVM:\n",
      "Test Score: 98.649%\n",
      "\n",
      "             precision    recall  f1-score   support\n",
      "\n",
      "       BLUE       1.00      0.94      0.97        17\n",
      "      GREEN       1.00      1.00      1.00        15\n",
      "        RED       0.98      1.00      0.99        42\n",
      "\n",
      "avg / total       0.99      0.99      0.99        74\n",
      "\n",
      "Features sorted by their rank:\n",
      "[(1, 'Leistung P min.'), (1, 'Mediumtemperatur max.'), (1, 'Mediumtemperatur min.'), (2, 'Nettogewicht'), (3, 'Nennweite'), (4, 'Nennweite G/DN'), (5, 'Förderhöhe H max.'), (6, 'pro 100 m Höhe'), (7, 'Baulänge'), (8, 'Betriebsdruck max.'), (9, 'bei   75°C Wassertemperatur'), (10, 'Leistung P max.'), (11, 'Nennstrom max.'), (12, 'EEI-Wert'), (13, 'Nennstrom min.')]\n",
      "\n"
     ]
    }
   ],
   "source": [
    "names = [\"Random Forest\",\n",
    "         \"Decision Tree\",\n",
    "         \"Linear SVM\"]\n",
    "\n",
    "classifiers = [RandomForestClassifier(random_state=0, max_depth=3),\n",
    "               DecisionTreeClassifier(max_depth=3),\n",
    "               SVC(kernel=\"linear\", C=0.025)]\n",
    "\n",
    "for name, clf in zip(names, classifiers):\n",
    "    selector = RFE(clf, n_features_to_select=3, step=1)\n",
    "    selector.fit(X_train, y_train)\n",
    "    clf_pred = selector.predict(X_test)\n",
    "    print(f\"{name}:\")\n",
    "    print(\"Test Score: {:.3%}\\n\".format(selector.score(X_test, y_test)))\n",
    "    print(classification_report(y_test, clf_pred))\n",
    "    print(\"Features sorted by their rank:\")\n",
    "    print(sorted(zip(map(lambda x: round(x, 4), selector.ranking_), csv.columns)))\n",
    "    print()"
   ]
  }
 ],
 "metadata": {
  "kernelspec": {
   "display_name": "Python 3",
   "language": "python",
   "name": "python3"
  },
  "language_info": {
   "codemirror_mode": {
    "name": "ipython",
    "version": 3
   },
   "file_extension": ".py",
   "mimetype": "text/x-python",
   "name": "python",
   "nbconvert_exporter": "python",
   "pygments_lexer": "ipython3",
   "version": "3.6.3"
  }
 },
 "nbformat": 4,
 "nbformat_minor": 2
}
