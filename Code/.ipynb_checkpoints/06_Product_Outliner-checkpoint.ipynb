{
 "cells": [
  {
   "cell_type": "code",
   "execution_count": null,
   "metadata": {},
   "outputs": [],
   "source": [
    "%matplotlib inline\n",
    "import matplotlib.pyplot as plt\n",
    "import numpy as np\n",
    "import pandas as pd\n",
    "\n",
    "from scipy.stats import iqr\n",
    "\n",
    "from sklearn.preprocessing import Imputer\n",
    "from sklearn.ensemble import IsolationForest\n",
    "from sklearn import svm"
   ]
  },
  {
   "cell_type": "markdown",
   "metadata": {},
   "source": [
    "#### Liefert die Daten der gewünschten Kategorie und ersetzt die fehlenden Werte."
   ]
  },
  {
   "cell_type": "code",
   "execution_count": 2,
   "metadata": {},
   "outputs": [],
   "source": [
    "def data_by_category(data, category):\n",
    "    category_data = data.query(\"Gruppenbezeichnung == '\" + category + \"'\")\n",
    "    category_data.is_copy = False\n",
    "    category_data.drop(columns=[\"Gruppenbezeichnung\"], inplace=True)\n",
    "    \n",
    "    imputer_scaler = Imputer(missing_values=\"NaN\", strategy=\"most_frequent\", verbose=1)\n",
    "    category_data = imputer_scaler.fit_transform(category_data)\n",
    "    \n",
    "    return np.array(category_data)"
   ]
  },
  {
   "cell_type": "markdown",
   "metadata": {},
   "source": [
    "#### Berechnet den Outliner Score und zählt die Outliners anhand des Thresholds"
   ]
  },
  {
   "cell_type": "code",
   "execution_count": 38,
   "metadata": {},
   "outputs": [],
   "source": [
    "def pred_isolationForest_outliner_count(data):\n",
    "    threshold = 0.1\n",
    "    counter = 0\n",
    "    \n",
    "    clf = IsolationForest()\n",
    "    clf.fit(data)\n",
    "    scores_pred = clf.decision_function(data)\n",
    "    clf.predict(data)\n",
    "    \n",
    "    for s in scores_pred:\n",
    "        value = abs(s)\n",
    "        if(s > threshold):\n",
    "            counter = counter + 1\n",
    "            \n",
    "    return counter"
   ]
  },
  {
   "cell_type": "markdown",
   "metadata": {},
   "source": [
    "#### Berechnet den Outliner Score und zählt die Outliners"
   ]
  },
  {
   "cell_type": "code",
   "execution_count": 54,
   "metadata": {},
   "outputs": [],
   "source": [
    "def pred_oneClassSvm_outliner_count(data):\n",
    "    clf = svm.OneClassSVM()\n",
    "    clf.fit(data)\n",
    "    scores_pred = clf.decision_function(data)\n",
    "    y_pred = clf.predict(data)\n",
    "    return len(y_pred[y_pred == -1])"
   ]
  },
  {
   "cell_type": "code",
   "execution_count": 6,
   "metadata": {},
   "outputs": [
    {
     "name": "stdout",
     "output_type": "stream",
     "text": [
      "(128, 15)\n",
      "(55, 14)\n",
      "(55, 14)\n"
     ]
    },
    {
     "name": "stderr",
     "output_type": "stream",
     "text": [
      "/Users/oliver.hofmann/anaconda3/lib/python3.6/site-packages/sklearn/preprocessing/imputation.py:347: UserWarning: Deleting features without observed values: [7]\n",
      "  \"observed values: %s\" % missing)\n"
     ]
    }
   ],
   "source": [
    "csv = pd.read_csv(\"../Data/Biral_Products_csv.csv\", delimiter=\",\", header=0)\n",
    "labels = csv.Gruppenbezeichnung\n",
    "csv.drop(columns=[\"Bezeichnung\", \"Beschreibung\", \"Anwendungsgebiet\"], inplace=True)\n",
    "\n",
    "red_data = data_by_category(csv, \"RED\")\n",
    "blue_data = data_by_category(csv, \"BLUE\")\n",
    "green_data = data_by_category(csv, \"BLUE\")\n",
    "\n",
    "print(red_data.shape)\n",
    "print(blue_data.shape)\n",
    "print(green_data.shape)"
   ]
  },
  {
   "cell_type": "markdown",
   "metadata": {},
   "source": [
    "#### Outliner detection mit Isolation Forest"
   ]
  },
  {
   "cell_type": "code",
   "execution_count": 48,
   "metadata": {},
   "outputs": [
    {
     "name": "stdout",
     "output_type": "stream",
     "text": [
      "Number of outliners in Category RED:  1\n",
      "Number of outliners in Category BLUE:  0\n",
      "Number of outliners in Category GREEN:  6\n"
     ]
    }
   ],
   "source": [
    "print(\"Number of outliners in Category RED: \", pred_isolationForest_outliner_count(red_data))\n",
    "print(\"Number of outliners in Category BLUE: \", pred_isolationForest_outliner_count(blue_data))\n",
    "print(\"Number of outliners in Category GREEN: \", pred_isolationForest_outliner_count(green_data))"
   ]
  },
  {
   "cell_type": "markdown",
   "metadata": {},
   "source": [
    "#### Outliner detection mit OneClassSVM"
   ]
  },
  {
   "cell_type": "code",
   "execution_count": 55,
   "metadata": {},
   "outputs": [
    {
     "name": "stdout",
     "output_type": "stream",
     "text": [
      "128\n",
      "Number of outliners in Category RED:  50\n",
      "55\n",
      "Number of outliners in Category BLUE:  23\n",
      "55\n",
      "Number of outliners in Category GREEN:  23\n"
     ]
    }
   ],
   "source": [
    "print(\"Number of outliners in Category RED: \", pred_oneClassSvm_outliner_count(red_data))\n",
    "print(\"Number of outliners in Category BLUE: \", pred_oneClassSvm_outliner_count(blue_data))\n",
    "print(\"Number of outliners in Category GREEN: \", pred_oneClassSvm_outliner_count(green_data))"
   ]
  }
 ],
 "metadata": {
  "kernelspec": {
   "display_name": "Python 3",
   "language": "python",
   "name": "python3"
  },
  "language_info": {
   "codemirror_mode": {
    "name": "ipython",
    "version": 3
   },
   "file_extension": ".py",
   "mimetype": "text/x-python",
   "name": "python",
   "nbconvert_exporter": "python",
   "pygments_lexer": "ipython3",
   "version": "3.6.3"
  }
 },
 "nbformat": 4,
 "nbformat_minor": 2
}
